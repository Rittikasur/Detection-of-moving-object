{
 "cells": [
  {
   "cell_type": "code",
   "execution_count": 1,
   "metadata": {},
   "outputs": [],
   "source": [
    "import cv2\n",
    "import numpy as np\n",
    "import matplotlib.pyplot as plt\n",
    "import pandas as pd\n",
    "from datetime import datetime"
   ]
  },
  {
   "cell_type": "code",
   "execution_count": 2,
   "metadata": {},
   "outputs": [],
   "source": [
    "cap = cv2.VideoCapture('sample.mp4') #reading the video\n",
    "#frame_width = int( cap.get(cv2.CAP_PROP_FRAME_WIDTH))\n",
    "#frame_height =int( cap.get( cv2.CAP_PROP_FRAME_HEIGHT))\n",
    "#fourcc = cv2.VideoWriter_fourcc('X','V','I','D')\n",
    "#out = cv2.VideoWriter(\"output.avi\", fourcc, 5.0, (1280,720))\n",
    "\n",
    "\n",
    "#capturing 2 consecutive frames\n",
    "ret, frame1 = cap.read()\n",
    "ret, frame2 = cap.read()\n",
    "\n",
    "\n",
    "while cap.isOpened():\n",
    "    diff = cv2.absdiff(frame1, frame2) #getting the difference between both the frames, to find any moving object\n",
    "    \n",
    "    #getting the noise out of the detected object\n",
    "    gray = cv2.cvtColor(diff, cv2.COLOR_BGR2GRAY) \n",
    "    blur = cv2.GaussianBlur(gray, (5,5), 0)\n",
    "    _, thresh = cv2.threshold(blur, 20, 255, cv2.THRESH_BINARY)\n",
    "    dilated = cv2.dilate(thresh, None, iterations=3)\n",
    "    \n",
    "    #creating contours around the detected moving object\n",
    "    contours, _ = cv2.findContours(dilated, cv2.RETR_TREE, cv2.CHAIN_APPROX_SIMPLE)\n",
    "    \n",
    "    #Taking each contours and creating rectangle bounding box around the object\n",
    "    for contour in contours:\n",
    "        (x, y, w, h) = cv2.boundingRect(contour)\n",
    "        if cv2.contourArea(contour) < 500: #removing the small contours(this value can be adjusted according to desired object's size)\n",
    "            continue         \n",
    "        cv2.rectangle(frame1, (x, y), (x+w, y+h), (0, 255, 0), 2)\n",
    "        \n",
    "    #cv2.drawContours(frame1, contours, -1, (0, 255, 0), 1)\n",
    "\n",
    "    #image = cv2.resize(frame1, (1280,720))\n",
    "    #out.write(image)\n",
    "    cv2.imshow(\"feed\", frame1)\n",
    "\n",
    "\n",
    "    frame1 = frame2\n",
    "    ret, frame2 = cap.read()\n",
    "\n",
    "    if cv2.waitKey(40) == 27:\n",
    "        break\n",
    "\n",
    "cv2.destroyAllWindows()\n",
    "cap.release()"
   ]
  },
  {
   "cell_type": "markdown",
   "metadata": {},
   "source": [
    "##### "
   ]
  }
 ],
 "metadata": {
  "kernelspec": {
   "display_name": "Python 3",
   "language": "python",
   "name": "python3"
  },
  "language_info": {
   "codemirror_mode": {
    "name": "ipython",
    "version": 3
   },
   "file_extension": ".py",
   "mimetype": "text/x-python",
   "name": "python",
   "nbconvert_exporter": "python",
   "pygments_lexer": "ipython3",
   "version": "3.8.5"
  }
 },
 "nbformat": 4,
 "nbformat_minor": 4
}
